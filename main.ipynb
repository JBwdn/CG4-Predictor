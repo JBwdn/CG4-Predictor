{
 "cells": [
  {
   "cell_type": "markdown",
   "metadata": {},
   "source": [
    "# ChemGauss4 docking score predictor based on molecular features\n",
    "Based on results of a virtual screen against an integrin homology model\n",
    "\n",
    "Takes input in the form: \n",
    "\n",
    "[Polar surface area (ang^2), Hydrogen bond acceptor groups, hydrogen bond donor groups, largest ring size, molecular weight (gmol^-1), number of ring systems, number of rotatable bonds]"
   ]
  },
  {
   "cell_type": "code",
   "execution_count": 2,
   "metadata": {},
   "outputs": [
    {
     "name": "stdout",
     "output_type": "stream",
     "text": [
      "TF version: 1.13.1\n"
     ]
    }
   ],
   "source": [
    "# Dependencies:\n",
    "import numpy as np\n",
    "import pandas as pd\n",
    "import matplotlib.pyplot as plt\n",
    "\n",
    "import tensorflow as tf\n",
    "from tensorflow import keras\n",
    "print('TF version:', tf.__version__)"
   ]
  },
  {
   "cell_type": "code",
   "execution_count": 3,
   "metadata": {},
   "outputs": [],
   "source": [
    "# Import data from .csv:\n",
    "data = pd.read_csv(r'ALLI_DOCK_DATA.csv')\n",
    "score = pd.DataFrame(data, columns = ['CG4:SCORE'])\n",
    "features = pd.DataFrame(data, columns = ['PSA','HBA', 'HBD', 'Max_ring_size', 'MW', 'N_ring_systems', 'N_rot_bonds'])\n",
    "N = len(features)"
   ]
  },
  {
   "cell_type": "code",
   "execution_count": 4,
   "metadata": {},
   "outputs": [],
   "source": [
    "# Separate scores into training and testing sets:\n",
    "training_score = np.array(score.values[0: int(0.8 * N)], dtype=np.float32)\n",
    "testing_score = np.array(score.values[int(0.8 * N) + 1: N-1], dtype=np.float32)\n",
    "\n",
    "# Round scores to positive integers:\n",
    "for i in range(0,len(training_score)):\n",
    "    training_score[i] = -1 * int(training_score[i])\n",
    "\n",
    "for i in range(0,len(testing_score)):\n",
    "    testing_score[i] = -1 * int(testing_score[i])"
   ]
  },
  {
   "cell_type": "code",
   "execution_count": 5,
   "metadata": {},
   "outputs": [],
   "source": [
    "# Normalize each feature to 0-1:\n",
    "PSA = np.array(features.PSA, dtype=np.float32)\n",
    "N_ring_systems = np.array(features.N_ring_systems, dtype=np.float32)\n",
    "MW = np.array(features.MW, dtype=np.float32)\n",
    "Maxring = np.array(features.Max_ring_size, dtype=np.float32)\n",
    "HBD = np.array(features.HBD, dtype=np.float32)\n",
    "HBA = np.array(features.HBA, dtype=np.float32)\n",
    "N_rot_bonds = np.array(features.N_rot_bonds, dtype=np.float32)\n",
    "\n",
    "for i in range(0,len(PSA)):\n",
    "    PSA[i] = (PSA[i] - min(PSA))/ max(PSA)\n",
    "    HBA[i] = (HBA[i] - min(HBA))/ max(HBA)\n",
    "    HBD[i] = (HBD[i] - min(HBD))/ max(HBD)\n",
    "    Maxring[i] = (Maxring[i] - min(Maxring))/ max(Maxring)\n",
    "    MW[i] = (MW[i] - min(MW)) / max(MW)\n",
    "    N_ring_systems[i] = (N_ring_systems[i] - min(N_ring_systems))/ max(N_ring_systems)\n",
    "    N_rot_bonds[i] = (N_rot_bonds[i] - min(N_rot_bonds))/ max(N_rot_bonds)    "
   ]
  },
  {
   "cell_type": "code",
   "execution_count": 6,
   "metadata": {},
   "outputs": [],
   "source": [
    "# Combine normalised features, split into training and testing\n",
    "norm_features = np.stack((PSA, HBD, HBA, MW, Maxring, N_rot_bonds, N_ring_systems), axis=1)\n",
    "training_features = np.array(norm_features[0: int(0.8 * N)], dtype=np.float32)\n",
    "testing_features = np.array(norm_features[int(0.8 * N) + 1: N-1], dtype=np.float32)"
   ]
  },
  {
   "cell_type": "code",
   "execution_count": 7,
   "metadata": {},
   "outputs": [],
   "source": [
    "# Build model: \n",
    "model = keras.Sequential([\n",
    "    # Two 'fully connected' neural layers, layer two returns score probability:\n",
    "    keras.layers.Dense(7, activation = tf.nn.relu),\n",
    "    keras.layers.Dense(12, activation = tf.nn.softmax)\n",
    "])"
   ]
  },
  {
   "cell_type": "code",
   "execution_count": 8,
   "metadata": {},
   "outputs": [
    {
     "name": "stdout",
     "output_type": "stream",
     "text": [
      "WARNING:tensorflow:From /Users/Jake/anaconda3/lib/python3.7/site-packages/tensorflow/python/ops/resource_variable_ops.py:435: colocate_with (from tensorflow.python.framework.ops) is deprecated and will be removed in a future version.\n",
      "Instructions for updating:\n",
      "Colocations handled automatically by placer.\n"
     ]
    }
   ],
   "source": [
    "# Model compilation :\n",
    "model.compile(optimizer=\"adam\", # How the model is updated based on the loss function\n",
    "              loss=\"sparse_categorical_crossentropy\", # Loss function\n",
    "              metrics=[\"accuracy\"]) # Fraction of images correctly identified"
   ]
  },
  {
   "cell_type": "code",
   "execution_count": 9,
   "metadata": {},
   "outputs": [
    {
     "name": "stdout",
     "output_type": "stream",
     "text": [
      "Epoch 1/10\n",
      "4985/4985 [==============================] - 0s 82us/sample - loss: 2.3669 - acc: 0.2181\n",
      "Epoch 2/10\n",
      "4985/4985 [==============================] - 0s 54us/sample - loss: 1.8167 - acc: 0.4056\n",
      "Epoch 3/10\n",
      "4985/4985 [==============================] - 0s 42us/sample - loss: 1.5854 - acc: 0.4056\n",
      "Epoch 4/10\n",
      "4985/4985 [==============================] - 0s 42us/sample - loss: 1.5323 - acc: 0.4056\n",
      "Epoch 5/10\n",
      "4985/4985 [==============================] - 0s 48us/sample - loss: 1.5128 - acc: 0.4056\n",
      "Epoch 6/10\n",
      "4985/4985 [==============================] - 0s 42us/sample - loss: 1.5023 - acc: 0.4056\n",
      "Epoch 7/10\n",
      "4985/4985 [==============================] - 0s 42us/sample - loss: 1.4959 - acc: 0.4058\n",
      "Epoch 8/10\n",
      "4985/4985 [==============================] - 0s 41us/sample - loss: 1.4906 - acc: 0.4056\n",
      "Epoch 9/10\n",
      "4985/4985 [==============================] - 0s 41us/sample - loss: 1.4843 - acc: 0.4056\n",
      "Epoch 10/10\n",
      "4985/4985 [==============================] - 0s 41us/sample - loss: 1.4802 - acc: 0.4068\n"
     ]
    },
    {
     "data": {
      "text/plain": [
       "<tensorflow.python.keras.callbacks.History at 0xb25d6f630>"
      ]
     },
     "execution_count": 9,
     "metadata": {},
     "output_type": "execute_result"
    }
   ],
   "source": [
    "# Training :\n",
    "model.fit(training_features, training_score, epochs = 10)"
   ]
  },
  {
   "cell_type": "code",
   "execution_count": 10,
   "metadata": {},
   "outputs": [
    {
     "name": "stdout",
     "output_type": "stream",
     "text": [
      "Test 1/1\n",
      "1245/1245 [==============================] - 0s 61us/sample - loss: 1.3011 - acc: 0.5896\n",
      "\n",
      "Test accuracy = 0.58955824\n"
     ]
    }
   ],
   "source": [
    "# Evaluation: \n",
    "print(\"Test 1/1\")\n",
    "test_loss, test_acc = model.evaluate(testing_features, testing_score)\n",
    "print(\"\\nTest accuracy =\", test_acc)"
   ]
  },
  {
   "cell_type": "code",
   "execution_count": 27,
   "metadata": {},
   "outputs": [
    {
     "name": "stdout",
     "output_type": "stream",
     "text": [
      "[0.88864726 0.5        0.8        0.9604872  0.97222227 0.4267578\n",
      " 0.8       ]\n",
      "[2.1630908e-04 3.9266091e-04 3.9803088e-04 1.0891138e-03 1.1973833e-02\n",
      " 6.9844387e-02 1.9471955e-01 1.8330726e-01 4.5998946e-01 7.5688951e-02\n",
      " 1.9003857e-03 4.8005325e-04]\n"
     ]
    }
   ],
   "source": [
    "predictions = model.predict(testing_features)\n",
    "print(testing_features[1])\n",
    "print(predictions[1])"
   ]
  },
  {
   "cell_type": "code",
   "execution_count": null,
   "metadata": {},
   "outputs": [],
   "source": []
  }
 ],
 "metadata": {
  "kernelspec": {
   "display_name": "Python 3",
   "language": "python",
   "name": "python3"
  },
  "language_info": {
   "codemirror_mode": {
    "name": "ipython",
    "version": 3
   },
   "file_extension": ".py",
   "mimetype": "text/x-python",
   "name": "python",
   "nbconvert_exporter": "python",
   "pygments_lexer": "ipython3",
   "version": "3.7.1"
  }
 },
 "nbformat": 4,
 "nbformat_minor": 2
}
